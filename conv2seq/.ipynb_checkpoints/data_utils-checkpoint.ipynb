{
 "cells": [
  {
   "cell_type": "code",
   "execution_count": 1,
   "metadata": {},
   "outputs": [],
   "source": [
    "import pickle\n",
    "from sklearn.model_selection import train_test_split\n",
    "import random"
   ]
  },
  {
   "cell_type": "code",
   "execution_count": 2,
   "metadata": {
    "collapsed": true
   },
   "outputs": [],
   "source": [
    "class Word:\n",
    "    def __init__(self, val, tf, df):\n",
    "        self.val = val\n",
    "        self.tf = tf\n",
    "        self.df = df"
   ]
  },
  {
   "cell_type": "code",
   "execution_count": 3,
   "metadata": {
    "collapsed": true
   },
   "outputs": [],
   "source": [
    "def read_data(data_fname):\n",
    "    corpus = []\n",
    "    with open(data_fname, 'r', encoding=\"utf-8\") as f:\n",
    "        for line in f.readlines()[1:]:\n",
    "            try:\n",
    "                _, _, _, abstract, title = line.strip().split(\"\\t\")\n",
    "            except:\n",
    "                continue\n",
    "            corpus.append((title.split(\" \"), abstract.split(\" \")))\n",
    "    return corpus"
   ]
  },
  {
   "cell_type": "code",
   "execution_count": 4,
   "metadata": {
    "collapsed": true
   },
   "outputs": [],
   "source": [
    "def cal_word_tf_df(corpus):\n",
    "    word_set = {}\n",
    "    for doc in corpus:\n",
    "        title, abstract = doc[0], doc[1]\n",
    "        words = title + abstract\n",
    "        for w in words:\n",
    "            if w not in word_set:\n",
    "                word_set[w] = Word(val=w, tf=1, df=0)\n",
    "            else:\n",
    "                word_set[w].tf += 1\n",
    "        for w in set(words):\n",
    "            word_set[w].df += 1\n",
    "    return word_set"
   ]
  },
  {
   "cell_type": "code",
   "execution_count": 5,
   "metadata": {
    "collapsed": true
   },
   "outputs": [],
   "source": [
    "id_beg = 0\n",
    "id_eos = 1\n",
    "id_emp = 2\n",
    "id_unk = 3\n",
    "def build_idx_for_word_tf_df(word_set, tf_thres=12, df_thres=6):\n",
    "    \n",
    "    \n",
    "    start_idx = id_unk + 1\n",
    "    word2idx = {}\n",
    "    idx2word = {}\n",
    "    \n",
    "    word2idx[\"<eos>\"] = id_eos\n",
    "    word2idx[\"<unk>\"] = id_unk\n",
    "    word2idx[\"<emp>\"] = id_emp\n",
    "    word2idx[\"<beg>\"] = id_beg\n",
    "    \n",
    "    word_list = list(filter(lambda w: w.tf > tf_thres and w.df > df_thres, word_set.values()))\n",
    "    word2idx.update({w.val: start_idx + idx for idx, w in enumerate(word_list)})\n",
    "    idx2word = {idx: word for word, idx in word2idx.items()}\n",
    "    \n",
    "    return word2idx, idx2word"
   ]
  },
  {
   "cell_type": "code",
   "execution_count": null,
   "metadata": {},
   "outputs": [],
   "source": [
    "data_fname = \"../data/processed.s2s.v1.txt\"\n",
    "corpus = read_data(data_fname)\n",
    "print(\"Got {0} doc in corpus\".format(len(corpus)))\n",
    "word_set = cal_word_tf_df(corpus)\n",
    "print(\"Got {0} unique word\".format(len(word_set)))\n",
    "top_tf_words = sorted(word_set.values(), key=lambda x: x.tf, reverse=True)\n",
    "print(\"The Top 10 are: \")\n",
    "print(\"\\n\".join([\"{0}\\t{1}\\t{2}\".format(word.val, word.tf, word.df) for word in top_tf_words[:10]]))\n",
    "\n",
    "word2idx, idx2word = build_idx_for_word_tf_df(word_set)\n",
    "titles = [[word2idx.get(w, id_unk) for w in doc[0]] for doc in corpus]\n",
    "abstracts = [[word2idx.get(w, id_unk) for w in doc[1]] for doc in corpus]\n",
    "\n",
    "X_train, X_test, Y_train, Y_test = train_test_split(abstracts, titles, test_size=1000)\n",
    "print(\"X_train length: {0}\\nX_test length: {1}\\nY_train length: {2}\\nY_test length: {3}\".format(len(X_train),\n",
    "                                                                                                len(X_test),\n",
    "                                                                                                len(Y_train),\n",
    "                                                                                                len(Y_test)\n",
    "                                                                                                   ))"
   ]
  },
  {
   "cell_type": "code",
   "execution_count": null,
   "metadata": {},
   "outputs": [],
   "source": [
    "print(len(word2idx))"
   ]
  },
  {
   "cell_type": "code",
   "execution_count": null,
   "metadata": {
    "collapsed": true
   },
   "outputs": [],
   "source": [
    "def prt(label, x):\n",
    "    print(label + \":\")\n",
    "    for w in x:\n",
    "        if w == id_emp:\n",
    "            continue\n",
    "        print(idx2word[w], end=\"\")\n",
    "    print()"
   ]
  },
  {
   "cell_type": "code",
   "execution_count": null,
   "metadata": {},
   "outputs": [],
   "source": [
    "data_fn = \"../data/finance150.pkl\"\n",
    "with open(data_fn, 'wb') as f:\n",
    "    pickle.dump((word2idx, idx2word, X_train, X_test, Y_train, Y_test), f, -1)\n",
    "print(\"vocab size: {0}\".format(len(word2idx)))\n",
    "idx = random.randint(0, len(X_train))\n",
    "prt(\"abstract\", X_train[idx])\n",
    "prt(\"title\", Y_train[idx])"
   ]
  },
  {
   "cell_type": "code",
   "execution_count": null,
   "metadata": {
    "collapsed": true
   },
   "outputs": [],
   "source": [
    "# # transform new data\n",
    "\n",
    "# data_fn = \"../data/basic_data_tf.pkl\"\n",
    "# with open(data_fn, 'rb') as f:\n",
    "#     word2idx, idx2word, _, _, _, _ = pickle.load(f)\n",
    "    \n",
    "# new_data_fn = \"../data/finance.kb.0823.data\"\n",
    "# new_corpus = read_data(new_data_fn)\n",
    "\n",
    "# titles = [[word2idx.get(w, id_unk) for w in doc[0]] for doc in new_corpus]\n",
    "# abstracts = [[word2idx.get(w, id_unk) for w in doc[1]] for doc in new_corpus]\n",
    "\n",
    "# data_fn = \"../data/finance.kb.0823.pkl\"\n",
    "# with open(data_fn, 'wb') as f:\n",
    "#     pickle.dump((abstracts, titles), f, -1)\n"
   ]
  },
  {
   "cell_type": "code",
   "execution_count": null,
   "metadata": {
    "collapsed": true
   },
   "outputs": [],
   "source": []
  }
 ],
 "metadata": {
  "kernelspec": {
   "display_name": "Python [default]",
   "language": "python",
   "name": "python3"
  },
  "language_info": {
   "codemirror_mode": {
    "name": "ipython",
    "version": 3
   },
   "file_extension": ".py",
   "mimetype": "text/x-python",
   "name": "python",
   "nbconvert_exporter": "python",
   "pygments_lexer": "ipython3",
   "version": "3.6.4"
  }
 },
 "nbformat": 4,
 "nbformat_minor": 2
}
