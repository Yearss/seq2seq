{
 "cells": [
  {
   "cell_type": "code",
   "execution_count": 1,
   "metadata": {},
   "outputs": [
    {
     "name": "stderr",
     "output_type": "stream",
     "text": [
      "/data1/songbohan/anaconda3/envs/reinforce_learning/lib/python3.6/importlib/_bootstrap.py:205: RuntimeWarning: compiletime version 3.5 of module 'tensorflow.python.framework.fast_tensor_util' does not match runtime version 3.6\n",
      "  return f(*args, **kwds)\n"
     ]
    }
   ],
   "source": [
    "import tensorflow as tf\n",
    "import logging\n",
    "import pickle\n",
    "import random\n",
    "import os\n",
    "from tensorflow.contrib import rnn\n",
    "from rouge import rouge\n",
    "\n",
    "\n",
    "os.environ[\"CUDA_VISIBLE_DEVICES\"] = \"5\"\n",
    "os.environ[\"CUDA_VISIBLE_DEVICES\"] = \"4\"\n",
    "os.environ[\"CUDA_VISIBLE_DEVICES\"] = \"2\""
   ]
  },
  {
   "cell_type": "code",
   "execution_count": null,
   "metadata": {},
   "outputs": [],
   "source": [
    "# add train log module\n",
    "log_fn = \"./log/train.20181017.log\"\n",
    "logger = logging.getLogger(\"training\")\n",
    "hdlr = logging.FileHandler(log_fn)\n",
    "logger.addHandler(hdlr)\n",
    "logger.setLevel(logging.INFO)\n",
    "tensorboard_log_path = \"./log/\"\n",
    "model_dump_dir=\"vanila\"\n",
    "# model_load_dir=\"../model/20180918\"\n",
    "inference_fn = \"./log/vanila.samples\""
   ]
  },
  {
   "cell_type": "code",
   "execution_count": null,
   "metadata": {
    "collapsed": true
   },
   "outputs": [],
   "source": [
    "# basic_data_\n",
    "data_fn = \"../data/finance150.pkl\"\n",
    "with open(data_fn, 'rb') as f:\n",
    "    word2idx, idx2word, X_train, X_test, Y_train, Y_test = pickle.load(open(data_fn, 'rb'))\n",
    "# X_test, Y_test = X_test[:100], Y_test[:100]"
   ]
  },
  {
   "cell_type": "code",
   "execution_count": null,
   "metadata": {
    "collapsed": true
   },
   "outputs": [],
   "source": [
    "# data_fn = \"../data/finance.kb.0823.pkl\"\n",
    "# with open(data_fn, 'rb') as f:\n",
    "#     X_test, Y_test = pickle.load(f)"
   ]
  },
  {
   "cell_type": "code",
   "execution_count": null,
   "metadata": {},
   "outputs": [
    {
     "name": "stdout",
     "output_type": "stream",
     "text": [
      "1000\n"
     ]
    }
   ],
   "source": [
    "print(len(X_test))"
   ]
  },
  {
   "cell_type": "code",
   "execution_count": null,
   "metadata": {},
   "outputs": [],
   "source": [
    "# hyper parameter\n",
    "\n",
    "beg, eos, emp, unk = 0, 1, 2, 3\n",
    "learning_rate = 0.001\n",
    "\n",
    "save_epoc_step = 2\n",
    "dropout_keep_prob = 1.\n",
    "restore = True\n",
    "inference = False\n",
    "train = False\n",
    "batch_size = 128\n",
    "epocs = 1500\n",
    "\n",
    "maxlena = 200\n",
    "maxlent = 20\n",
    "maxlen = maxlena + maxlent\n",
    "maxlenh = maxlent\n",
    "maxlend = maxlena\n",
    "\n",
    "vocab_size = len(word2idx)\n",
    "# idx2word = {idx:word for word, idx in word2idx.items()}\n",
    "embedding_size = 100\n",
    "memory_dim = 512\n",
    "\n",
    "# cnn A, C\n",
    "filter_sizes = [3,3,3,3,3]\n",
    "num_filters = 1\n",
    "\n",
    "\n"
   ]
  },
  {
   "cell_type": "code",
   "execution_count": null,
   "metadata": {
    "collapsed": true
   },
   "outputs": [],
   "source": [
    "# building model\n",
    "\n",
    "feed_batch_size = tf.placeholder(tf.int32, [], name=\"feed_batch_size\")\n",
    "encoder_word_inputs = tf.placeholder(tf.int32, shape=[None, maxlend], name=\"encoder_word_inputs\")\n",
    "encoder_pos_inputs = tf.placeholder(tf.int32, shape=[None, maxlend], name=\"encoder_pos_inputs\")\n",
    "decoder_targets = tf.placeholder(tf.int32, shape=[None, maxlenh], name=\"decoder_targets\")\n",
    "decoder_inputs = tf.placeholder(tf.int32, shape=[None, maxlenh], name=\"decoder_inputs\")\n",
    "writer = tf.summary.FileWriter(tensorboard_log_path, graph=tf.get_default_graph())\n",
    "\n",
    "\n",
    "# user_embeddings = tf.placeholder(tf.float32, shape=[vocab_size, embedding_size], name=\"user_embeddings\")\n",
    "word_embeddings = tf.get_variable(initializer=tf.truncated_normal(shape=[vocab_size, embedding_size], stddev=0.1), name=\"word_embeddings\")\n",
    "pos_embeddings = tf.Variable(tf.random_uniform([maxlend+3, embedding_size], -1,0, 1.0), name=\"pos_embeddings\")\n",
    "\n",
    "# writer = tf.summary.FileWriter(tensorboard_log_path, graph=tf.get_default_graph())\n",
    "\n",
    "\n",
    "encoder_word_inputs_embedded = tf.nn.embedding_lookup(word_embeddings, encoder_word_inputs)\n",
    "enocder_pos_inputs_embedded = tf.nn.embedding_lookup(pos_embeddings, encoder_pos_inputs)\n",
    "encoder_inputs_embedded = encoder_word_inputs_embedded + enocder_pos_inputs_embedded\n",
    "embed_expanded = tf.expand_dims(encoder_inputs_embedded, -1)\n",
    "\n",
    "def CNN_C_encoder(embed_expanded):\n",
    "        \n",
    "    cnn_c_inputs = embed_expanded\n",
    "    for i, filter_size in enumerate(filter_sizes):\n",
    "        with tf.variable_scope(\"conv-c-%s\" % i):\n",
    "            filter_shape = [filter_size, embedding_size, 1, num_filters]\n",
    "            W = tf.get_variable(initializer=tf.truncated_normal(filter_shape, stddev=0.1), name=\"W\")\n",
    "            b = tf.get_variable(initializer=tf.constant(0.1, shape=[num_filters]), name=\"b\")\n",
    "            conv = tf.nn.conv2d(embed_expanded, W, strides=[1,1,1,1], padding=\"SAME\", name=\"conv\")\n",
    "            cnn_c_inputs = tf.nn.relu(tf.nn.bias_add(conv, b), name=\"relu\")\n",
    "            print(W.name)\n",
    "        \n",
    "    h = tf.squeeze(cnn_c_inputs, axis=3)\n",
    "#     with tf.name_scope(\"dropout\"):\n",
    "#         h_drop = tf.nn.dropout(h, dropout_keep_prob, name=\"dropout\")\n",
    "    \n",
    "    return h"
   ]
  },
  {
   "cell_type": "code",
   "execution_count": null,
   "metadata": {},
   "outputs": [
    {
     "name": "stdout",
     "output_type": "stream",
     "text": [
      "conv-c-0/W:0\n",
      "conv-c-1/W:0\n",
      "conv-c-2/W:0\n",
      "conv-c-3/W:0\n",
      "conv-c-4/W:0\n",
      "(?, 200, 100)\n"
     ]
    }
   ],
   "source": [
    "cnn_c_outputs = CNN_C_encoder(embed_expanded)\n",
    "print(cnn_c_outputs.shape)"
   ]
  },
  {
   "cell_type": "code",
   "execution_count": null,
   "metadata": {
    "collapsed": true
   },
   "outputs": [],
   "source": [
    "def CNN_A_encoder(embed_expanded):\n",
    "    \n",
    "    cnn_a_inputs = embed_expanded\n",
    "    for i, filter_size in enumerate(filter_sizes):\n",
    "        with tf.variable_scope(\"conv-a-%s\" % i):\n",
    "            filter_shape = [filter_size, embedding_size, 1, num_filters]\n",
    "\n",
    "            W = tf.get_variable(initializer=tf.truncated_normal(filter_shape, stddev=0.1), name=\"W\")\n",
    "            b = tf.get_variable(initializer=tf.constant(0.1, shape=[num_filters]), name=\"b\")\n",
    "            conv = tf.nn.conv2d(embed_expanded, W, strides=[1,1,1,1], padding=\"SAME\", name=\"conv\")\n",
    "            cnn_a_inputs = tf.nn.relu(tf.nn.bias_add(conv, b), name=\"relu\")\n",
    "            \n",
    "            print(W.name)\n",
    "        \n",
    "    h = tf.squeeze(cnn_a_inputs, axis=3)\n",
    "    \n",
    "#     with tf.name_scope(\"dropout\"):\n",
    "#         h_drop = tf.nn.dropout(h, dropout_keep_prob, name=\"dropout\")\n",
    "    \n",
    "    return h"
   ]
  },
  {
   "cell_type": "code",
   "execution_count": null,
   "metadata": {},
   "outputs": [
    {
     "name": "stdout",
     "output_type": "stream",
     "text": [
      "conv-a-0/W:0\n",
      "conv-a-1/W:0\n",
      "conv-a-2/W:0\n",
      "conv-a-3/W:0\n",
      "conv-a-4/W:0\n",
      "(?, 200, 100)\n"
     ]
    }
   ],
   "source": [
    "cnn_a_outouts = CNN_A_encoder(embed_expanded)\n",
    "print(cnn_a_outouts.shape)"
   ]
  },
  {
   "cell_type": "code",
   "execution_count": null,
   "metadata": {
    "collapsed": true
   },
   "outputs": [],
   "source": [
    "\n",
    "\n",
    "def LSTM_decoder(cnn_a_outouts, cnn_c_outputs, decoder_inputs):\n",
    "    \n",
    "    decoder_inputs_embedded = tf.nn.embedding_lookup(word_embeddings, decoder_inputs)\n",
    "    lstm = tf.contrib.rnn.BasicLSTMCell(memory_dim)\n",
    "    decoder_outputs = []\n",
    "    with tf.variable_scope(\"attetion\"):\n",
    "        state = lstm.zero_state(feed_batch_size, tf.float32)\n",
    "#         cell_init = tf.placeholder(tf.float32, shape=[None, memory_dim], name=\"init_cell\")\n",
    "#         hidden_init = tf.placeholder(tf.float32, shape=[None, memory_dim], name=\"init_hidden\")\n",
    "#         state = rnn.LSTMStateTuple(cell_init, hid_init)\n",
    "        W = tf.get_variable(initializer=tf.truncated_normal([memory_dim, embedding_size], stddev=0.1), name=\"W\")\n",
    "        b = tf.get_variable(initializer=tf.constant(0.1, shape=[embedding_size]), name=\"b\")\n",
    "        print(W.name)\n",
    "    \n",
    "    decoder_outputs = []\n",
    "\n",
    "#     cns = []\n",
    "    with tf.variable_scope(\"RNN\"):\n",
    "        for i in range(maxlenh): \n",
    "            d = tf.expand_dims(tf.matmul(state[1], W) + b + decoder_inputs_embedded[:,i,:], -1)\n",
    "            alpha = tf.expand_dims(tf.nn.softmax(tf.squeeze(tf.matmul(cnn_a_outouts, d), axis=-1), dim=1), axis=-1)\n",
    "            context = tf.reduce_sum(tf.multiply(alpha, cnn_c_outputs), axis=1)\n",
    "            current_input = tf.concat([context, decoder_inputs_embedded[:,i,:]], axis=1)\n",
    "\n",
    "            if i > 0:\n",
    "                tf.get_variable_scope().reuse_variables() \n",
    "\n",
    "            decoder_output, state = lstm(current_input, state)\n",
    "            decoder_outputs.append(decoder_output)\n",
    "        \n",
    "#             cns.append(cnn_c_outputs)\n",
    "    return tf.stack(decoder_outputs, axis=1)"
   ]
  },
  {
   "cell_type": "code",
   "execution_count": null,
   "metadata": {},
   "outputs": [
    {
     "name": "stdout",
     "output_type": "stream",
     "text": [
      "attetion/W:0\n",
      "(?, 20, 512)\n"
     ]
    }
   ],
   "source": [
    "decoder_outputs =  LSTM_decoder(cnn_a_outouts, cnn_c_outputs, decoder_inputs)\n",
    "print(decoder_outputs.shape)"
   ]
  },
  {
   "cell_type": "code",
   "execution_count": null,
   "metadata": {
    "collapsed": true
   },
   "outputs": [],
   "source": [
    "# writer=tf.summary.FileWriter('./improved_graph2',tf.get_default_graph())"
   ]
  },
  {
   "cell_type": "code",
   "execution_count": null,
   "metadata": {},
   "outputs": [],
   "source": [
    "decoder_logits = tf.contrib.layers.linear(decoder_outputs, vocab_size)\n",
    "labels = tf.one_hot(decoder_targets, depth=vocab_size, dtype=tf.float32)\n",
    "stepwise_cross_entropy = tf.nn.softmax_cross_entropy_with_logits(labels=labels, logits=decoder_logits)"
   ]
  },
  {
   "cell_type": "code",
   "execution_count": null,
   "metadata": {},
   "outputs": [
    {
     "name": "stdout",
     "output_type": "stream",
     "text": [
      "fully_connected/BiasAdd:0\n",
      "(?, 20, 100004)\n",
      "(?, 20, 100004)\n"
     ]
    }
   ],
   "source": [
    "print(decoder_logits.name)\n",
    "print(labels.shape)\n",
    "print(decoder_logits.shape)"
   ]
  },
  {
   "cell_type": "code",
   "execution_count": null,
   "metadata": {},
   "outputs": [
    {
     "name": "stdout",
     "output_type": "stream",
     "text": [
      "(?, 20, 100004)\n",
      "(?, 20)\n"
     ]
    }
   ],
   "source": [
    "print(labels.shape)\n",
    "print(stepwise_cross_entropy.shape)\n"
   ]
  },
  {
   "cell_type": "code",
   "execution_count": null,
   "metadata": {
    "collapsed": true
   },
   "outputs": [],
   "source": [
    "loss = tf.reduce_mean(stepwise_cross_entropy, name=\"loss\")\n",
    "tf.summary.scalar(\"cost\", loss)\n",
    "summary_op = tf.summary.merge_all()\n",
    "\n",
    "decoder_prediction = tf.argmax(decoder_logits, 2, name=\"decoder_prediction\")\n",
    "train_op = tf.train.AdamOptimizer(learning_rate).minimize(loss, name=\"op_adam_minize\")\n",
    "saver = tf.train.Saver()"
   ]
  },
  {
   "cell_type": "code",
   "execution_count": null,
   "metadata": {
    "collapsed": true
   },
   "outputs": [],
   "source": [
    "def rpadd(x, maxlen=maxlenh, eos=eos, prefix=None):\n",
    "    \n",
    "    if prefix != None:\n",
    "        x = [prefix] + x\n",
    "    n = len(x)\n",
    "    if n > maxlen - 1:\n",
    "        x = x[:maxlen - 1]\n",
    "        n = maxlen - 1\n",
    "    res = x + [eos] + [emp] * (maxlen - 1 - n)\n",
    "    \n",
    "    assert len(res) == maxlen\n",
    "    \n",
    "    return res"
   ]
  },
  {
   "cell_type": "code",
   "execution_count": null,
   "metadata": {
    "collapsed": true
   },
   "outputs": [],
   "source": [
    "def ids2sent(x):\n",
    "    sent = []\n",
    "    for idx in x:\n",
    "#         if idx == emp:\n",
    "#             continue\n",
    "        if idx == eos:\n",
    "            break\n",
    "        sent.append(idx2word[idx])\n",
    "    \n",
    "    return \" \".join(sent)\n",
    "        "
   ]
  },
  {
   "cell_type": "code",
   "execution_count": null,
   "metadata": {
    "collapsed": true
   },
   "outputs": [],
   "source": [
    "def predict(X_test, Y_test, sess, log_dir):\n",
    "    \n",
    "    batch_size = 1\n",
    "    \n",
    "    rouge_mea = {\n",
    "        'rouge_1/f_score': 0.0,\n",
    "        'rouge_1/r_score': 0.0,\n",
    "        'rouge_1/p_score': 0.0,\n",
    "        'rouge_2/f_score': 0.0,\n",
    "        'rouge_2/r_score': 0.0,\n",
    "        'rouge_2/p_score': 0.0,\n",
    "        'rouge_l/f_score': 0.0,\n",
    "        'rouge_l/r_score': 0.0,\n",
    "        'rouge_l/p_score': 0.0\n",
    "    }\n",
    "    outf = open(log_dir, 'w', encoding='utf-8')\n",
    "    j = 0\n",
    "    while j < len(X_test):\n",
    "        \n",
    "        encoder_word_inputs_ = list(map(lambda x: rpadd(x, maxlend), X_test[j:j+batch_size]))\n",
    "        encoder_pos_inputs_ = list(map(lambda x:rpadd(list(range(3,len(x)+3)), maxlend), X_test[j:j+batch_size]))\n",
    "        decoder_inputs_ = list(map(lambda x: rpadd(x, maxlenh, prefix=beg), Y_test[j:j+batch_size]))\n",
    "        j = j + batch_size\n",
    "        \n",
    "      \n",
    "        test_x = [[] for _ in range(len(encoder_word_inputs_))]\n",
    "        for l in range(maxlenh):\n",
    "            new_decoder_input_ = list(map(lambda x: rpadd(x, maxlenh, prefix=beg), test_x))\n",
    "\n",
    "            decoder_prediction_, decoder_logits_ = sess.run([decoder_prediction, decoder_logits],\n",
    "                                          feed_dict={\n",
    "                                              encoder_word_inputs: encoder_word_inputs_,\n",
    "                                              encoder_pos_inputs: encoder_pos_inputs_,\n",
    "                                              decoder_inputs: new_decoder_input_,\n",
    "                                              feed_batch_size: 1\n",
    "                                          })\n",
    "            for b in range(len(encoder_word_inputs_)):\n",
    "                next_word_idx = decoder_prediction_[b][l]\n",
    "                test_x[b].append(next_word_idx)\n",
    "                        \n",
    "                \n",
    "        # compute 'rouge' measure in the batch\n",
    "        hypotheses = [ids2sent(single) for single in test_x]\n",
    "        references = [ids2sent(single) for single in decoder_inputs_]\n",
    "        \n",
    "        rouge_batch = rouge(hypotheses, references)\n",
    "        \n",
    "        for key in rouge_mea.keys():\n",
    "            rouge_mea[key] += rouge_batch[key]\n",
    "\n",
    "        # show batch result in file \n",
    "        for b in range(len(encoder_word_inputs_)):\n",
    "            \n",
    "            outf.write(\"{0}\\t{1}\\t{2}\\n\".format(ids2sent(test_x[b]), ids2sent(decoder_inputs_[b])\n",
    "                                                , ids2sent(encoder_word_inputs_[b])))\n",
    "            \n",
    "    # compute rouge measue in the test\n",
    "    outf.write(\"------rouge measure------\")\n",
    "    for key in rouge_mea.keys():\n",
    "        rouge_mea[key] = rouge_mea[key] / (len(X_test)//batch_size)\n",
    "        outf.write(\"{0}: {1}\\n\".format(key, rouge_mea[key]))\n",
    "\n",
    "    \n",
    "    outf.close()"
   ]
  },
  {
   "cell_type": "code",
   "execution_count": null,
   "metadata": {},
   "outputs": [
    {
     "name": "stdout",
     "output_type": "stream",
     "text": [
      "INFO:tensorflow:Restoring parameters from ./ckpt/vanila-18\n"
     ]
    }
   ],
   "source": [
    "import numpy as np\n",
    "sess = tf.Session()\n",
    "sess.run(tf.global_variables_initializer())\n",
    "graph = tf.get_default_graph()\n",
    "\n",
    "if restore:\n",
    "    saver.restore(sess, tf.train.latest_checkpoint(\"./ckpt/\"))\n",
    "if inference:\n",
    "    predict(X_test, Y_test, sess, inference_fn)\n",
    "\n",
    "if train:\n",
    "    print(\"start trainging...\")  \n",
    "    for i in range(epocs):\n",
    "        j = 0\n",
    "        while j < len(X_train):\n",
    "            encoder_word_inputs_ = list(map(lambda x: rpadd(x, maxlend), X_train[j:j+batch_size]))\n",
    "            encoder_pos_inputs_ = list(map(lambda x:rpadd(list(range(3,len(x)+3)), maxlend), X_train[j:j+batch_size]))\n",
    "            decoder_inputs_ = list(map(lambda x: rpadd(x, maxlenh, prefix=beg), Y_train[j:j+batch_size]))\n",
    "            decoder_targets_ = list(map(lambda x: x[1:]+[emp], decoder_inputs_))\n",
    "\n",
    "            j = j + batch_size\n",
    "            summary, _, loss_, decoder_prediction_ = sess.run([summary_op, train_op, loss, decoder_prediction],\n",
    "                                                             feed_dict={\n",
    "                                                                 encoder_word_inputs: encoder_word_inputs_,\n",
    "                                                                 encoder_pos_inputs: encoder_pos_inputs_,\n",
    "                                                                 decoder_inputs: decoder_inputs_,\n",
    "                                                                 decoder_targets: decoder_targets_,\n",
    "                                                                 feed_batch_size: len(encoder_word_inputs_),\n",
    "                                                             })\n",
    "            writer.add_summary(summary, i*len(X_train) + j)\n",
    "\n",
    "            if j % (batch_size * 30) == 0:\n",
    "                logger.info(\"Runing in epoc {0} batch {1} with loss {2}\".format(i, j//batch_size, loss_))\n",
    "\n",
    "\n",
    "        if i % save_epoc_step == 0:\n",
    "            saver.save(sess, \"./ckpt/{0}\".format(model_dump_dir), global_step=i)\n",
    "    print(\"finish trainging.\") \n",
    "\n"
   ]
  },
  {
   "cell_type": "code",
   "execution_count": null,
   "metadata": {},
   "outputs": [
    {
     "ename": "ModuleNotFoundError",
     "evalue": "No module named 'bleu'",
     "output_type": "error",
     "traceback": [
      "\u001b[0;31m---------------------------------------------------------------------------\u001b[0m",
      "\u001b[0;31mModuleNotFoundError\u001b[0m                       Traceback (most recent call last)",
      "\u001b[0;32m<ipython-input-22-3e3e714a47d8>\u001b[0m in \u001b[0;36m<module>\u001b[0;34m()\u001b[0m\n\u001b[0;32m----> 1\u001b[0;31m \u001b[0;32mfrom\u001b[0m \u001b[0mbleu\u001b[0m \u001b[0;32mimport\u001b[0m \u001b[0mcompute_bleu\u001b[0m\u001b[0;34m\u001b[0m\u001b[0m\n\u001b[0m\u001b[1;32m      2\u001b[0m \u001b[0;34m\u001b[0m\u001b[0m\n\u001b[1;32m      3\u001b[0m \u001b[0;32mwith\u001b[0m \u001b[0mopen\u001b[0m\u001b[0;34m(\u001b[0m\u001b[0;34m\"../log/test_beam.sample.v1.data\"\u001b[0m\u001b[0;34m,\u001b[0m \u001b[0;34m'r'\u001b[0m\u001b[0;34m,\u001b[0m \u001b[0mencoding\u001b[0m\u001b[0;34m=\u001b[0m\u001b[0;34m\"utf-8\"\u001b[0m\u001b[0;34m)\u001b[0m \u001b[0;32mas\u001b[0m \u001b[0mf\u001b[0m\u001b[0;34m:\u001b[0m\u001b[0;34m\u001b[0m\u001b[0m\n\u001b[1;32m      4\u001b[0m     \u001b[0mhypos\u001b[0m \u001b[0;34m=\u001b[0m \u001b[0;34m[\u001b[0m\u001b[0;34m]\u001b[0m\u001b[0;34m\u001b[0m\u001b[0m\n\u001b[1;32m      5\u001b[0m     \u001b[0mrefs\u001b[0m \u001b[0;34m=\u001b[0m \u001b[0;34m[\u001b[0m\u001b[0;34m]\u001b[0m\u001b[0;34m\u001b[0m\u001b[0m\n",
      "\u001b[0;31mModuleNotFoundError\u001b[0m: No module named 'bleu'"
     ]
    }
   ],
   "source": [
    "# from bleu import compute_bleu\n",
    "\n",
    "# with open(\"../log/test_beam.sample.v1.data\", 'r', encoding=\"utf-8\") as f:\n",
    "#     hypos = []\n",
    "#     refs = []\n",
    "#     hr, rr = [], []\n",
    "#     for line in f.readlines():\n",
    "#         hypo, ref, _ = line.strip().split(\"\\t\")\n",
    "#         hypos.append([token for token in hypo.split(\" \")])\n",
    "#         refs.append([token for token in ref.split(\" \")])\n",
    "#         hr.append(hypo)\n",
    "#         rr.append(ref)\n",
    "    \n",
    "# #print(compute_bleu(refs, hypos))\n",
    "# print(rouge(hr, rr))"
   ]
  },
  {
   "cell_type": "code",
   "execution_count": 39,
   "metadata": {
    "collapsed": true
   },
   "outputs": [],
   "source": [
    "# cite: https://arxiv.org/pdf/1702.01806.pdf\n",
    "# title: Beam Search Strategies for Neural Machine Translation\n",
    "# beam search with pruning (naive, version)\n",
    "# prune hypo parameter\n",
    "\n",
    "rp = 0.2\n",
    "ap = 2.5\n",
    "rpl = 0.3\n",
    "mc = 2\n",
    "beam_size = 30000\n",
    "\n",
    "def prune(beam_tmp, decoder_probs_l):\n",
    "    \n",
    "#     print([[idx2word[idx] for idx in seq] for score, seq in beam_tmp])\n",
    "    \n",
    "#     max_score, max_seq = beam_tmp[0]\n",
    "#     print(\"max_score: {0}, max_seq: {1}\".format(max_score, max_seq))\n",
    "#     beam_tmp = list(filter(lambda x: x[0] > rp * max_score, beam_tmp))\n",
    "#     beam_tmp = list(filter(lambda x: x[0] > max_score - ap, beam_tmp))\n",
    "#     beam_tmp = list(filter(lambda x: decoder_probs_l[x[1][-1]] > rpl * decoder_probs_l[max_seq[-1]], beam_tmp))\n",
    "    \n",
    "#     beam_res = []\n",
    "#     cnt = {}\n",
    "#     for prob, seq in beam_tmp:\n",
    "#         key = \"_\".join([str(s) for s in seq])\n",
    "#         if key not in cnt:\n",
    "#             cnt[key] = 0\n",
    "#         if cnt[key] < mc:\n",
    "#             beam_res.append((prob, seq))\n",
    "#             cnt[key] += 1\n",
    "            \n",
    "#     print([[idx2word[idx] for idx in seq] for score, seq in beam_res])\n",
    "\n",
    "    \n",
    "    \n",
    "    return beam_res\n",
    "\n",
    "def beam_search_with_pruning(X_one, Y_one, sess, beam_size):\n",
    "    \n",
    "    encoder_word_inputs_ = [rpadd(X_one, maxlend)]\n",
    "    encoder_pos_inputs_ = [rpadd(list(range(3,len(X_one)+3)), maxlend)]\n",
    "    \n",
    "    beam_list = [(1.0, [beg])] \n",
    "    final_list = []\n",
    "    \n",
    "    for l in range(maxlenh):\n",
    "\n",
    "        candidate = {}\n",
    "        for prob_seq, seq in beam_list:\n",
    "            \n",
    "            \n",
    "            new_decoder_input_ = [rpadd(seq, maxlenh, prefix=None)]\n",
    "   \n",
    "            decoder_logits_ = sess.run(tf.log(tf.nn.softmax(decoder_logits)),\n",
    "                                          feed_dict={\n",
    "                                              encoder_word_inputs: encoder_word_inputs_,\n",
    "                                              encoder_pos_inputs: encoder_pos_inputs_,\n",
    "                                              decoder_inputs: new_decoder_input_,\n",
    "                                              feed_batch_size: 1\n",
    "                                          })\n",
    "            decoder_probs_l = decoder_logits_[0][l]\n",
    "            probs_top_ids = np.argsort(decoder_probs_l)[-beam_size:]\n",
    "#             print([idx2word[idx] for idx in probs_top_ids])\n",
    "            \n",
    "#             print(\"------------------------------\")\n",
    "            \n",
    "            for v in probs_top_ids:\n",
    "                if v == unk or v == emp: continue\n",
    "                pt = prob_seq + decoder_probs_l[v]\n",
    "                candidate[pt] = seq + [v]\n",
    "                \n",
    "       \n",
    " \n",
    "        res_sort = sorted(list(candidate.items()), key=lambda x: x[0], reverse=True)   \n",
    "        \n",
    "        beam_tmp = res_sort[:beam_size]\n",
    "        \n",
    "        # beam_tmp = prune(beam_tmp, decoder_probs_l)  \n",
    "                \n",
    "        beam_list.clear()\n",
    "        \n",
    "        for prob, seq in beam_tmp:\n",
    "            if seq[-1] == eos:\n",
    "                final_list.append((prob, seq))\n",
    "                beam_size -= 1\n",
    "            else:\n",
    "                beam_list.append((prob, seq))\n",
    "            \n",
    "        if len(beam_list) == 0 or beam_size == 0:\n",
    "            break\n",
    "           \n",
    "    return [(ids2sent(item[1]), item[0]) for item in final_list]"
   ]
  },
  {
   "cell_type": "code",
   "execution_count": 25,
   "metadata": {
    "scrolled": true
   },
   "outputs": [],
   "source": [
    "t = beam_search_with_pruning(X_test[3], Y_test[3], sess, 4)"
   ]
  },
  {
   "cell_type": "code",
   "execution_count": null,
   "metadata": {},
   "outputs": [],
   "source": [
    "predict_with_beam(beam_size=4, filename=\"./log/produce.beam.samples\", sess=sess, X_test=X_test, Y_test=Y_test)"
   ]
  },
  {
   "cell_type": "code",
   "execution_count": 29,
   "metadata": {},
   "outputs": [
    {
     "data": {
      "text/plain": [
       "'上周五 大盘 缩量 下跌 ， 外围 股市 普遍 上涨 ， 消息面 小幅 利好 。 欧美 股指 隔夜 表现 一般 ， 周末 信息 <unk> 是 没有 什么 利好 ， 今日 没有 新股申购 ， 预计 大盘 再度 出现 平开 或者 小幅 低开 的 可能性 大 ， 整体 看 市场 短期 仍 有 反复 ， 不 排除 市场 再度 回 抽 2700 点 ， 短期 看 市场 底部 仍 在 构筑 期 ， 市场 短期 依然 不 具备 重仓 做 多 的 趋势 。 惯性 的 杀跌 有所 放缓 ， 日线 级别 的 反弹 有望 短期 出现 。 今天 大盘 小幅 高开 ， 上攻 时 关注 <unk> 点 附近 的 压力 ， 强 压力 在 2790 点 附近 ； 回落 时 关注 <unk> 点 附近 的 支撑 ， 强 支撑 在 <unk> 点 附近 。 A股 经历 过 多次 牛熊 转换 ， 我们 其实 可以 回想 一下 牛熊 行情 走到 顶底 时 的 场景 ： 每 一次 牛市 到 了 最后 ， 投资者 都 <unk> 豪情万丈 ， 似乎 都 清晰 地 看到 红旗 插 到 一万 点 的 情景 ， 结果 总是 事与愿违 ， <unk> 的 激情 很快 如 气球 泄 了 气 ； 熊市 的 最后 阶段 ， 市场 都 走 得 十分 艰难 ， 每次 下跌 都 让 投资者 有种 天 就要 塌下来 的 感觉 ， 但 行情 最终 都 慢慢 地 走出 了 困境 ， 回归 正途 。 这 里面 的 贪婪 和 恐惧 ， 因 几分 实情 ， 因 几分 情绪 ？ 经历 过 的 人 只要 事后 有过 反思 ， 对于 市场 情绪 的 失衡 ， 也 就 基本 可以 一笑置之 了 。'"
      ]
     },
     "execution_count": 29,
     "metadata": {},
     "output_type": "execute_result"
    }
   ],
   "source": [
    "ids2sent(X_test[3])"
   ]
  },
  {
   "cell_type": "code",
   "execution_count": 31,
   "metadata": {},
   "outputs": [
    {
     "data": {
      "text/plain": [
       "'反弹 在 即 ！ 大盘走势 沉稳 目标 明确'"
      ]
     },
     "execution_count": 31,
     "metadata": {},
     "output_type": "execute_result"
    }
   ],
   "source": [
    "ids2sent(Y_test[3])"
   ]
  },
  {
   "cell_type": "code",
   "execution_count": 37,
   "metadata": {
    "collapsed": true
   },
   "outputs": [],
   "source": [
    "def predict_with_beam(X_test, Y_test, sess, beam_size, filename):\n",
    "    rouge_mea = {\n",
    "        'rouge_1/f_score': 0.0,\n",
    "        'rouge_1/r_score': 0.0,\n",
    "        'rouge_1/p_score': 0.0,\n",
    "        'rouge_2/f_score': 0.0,\n",
    "        'rouge_2/r_score': 0.0,\n",
    "        'rouge_2/p_score': 0.0,\n",
    "        'rouge_l/f_score': 0.0,\n",
    "        'rouge_l/r_score': 0.0,\n",
    "        'rouge_l/p_score': 0.0\n",
    "    }\n",
    "    \n",
    "    hypotheses = []\n",
    "    references = []\n",
    "    out = open(filename, \"w\", encoding=\"utf-8\")\n",
    "    for x, y in zip(X_test, Y_test):\n",
    "        res = beam_search_with_pruning(x, y, sess, beam_size)[0][0]\n",
    "        out.write(\"{0}\\t{1}\\t{2}\\n\".format(res, ids2sent(y), ids2sent(x)))\n",
    "        out.flush()\n",
    "    \n",
    " \n",
    "        hypotheses.append(ids2sent(x))\n",
    "        references.append(res)\n",
    "        \n",
    "    rouge_mea = rouge(hypotheses, references)\n",
    "\n",
    "    # compute rouge measue in the test\n",
    "    outf.write(\"------rouge measure------\")\n",
    "    for key in rouge_mea.keys():\n",
    "        rouge_mea[key] = rouge_mea[key] / (len(X_test)//batch_size)\n",
    "        outf.write(\"{0}: {1}\\n\".format(key, rouge_mea[key]))\n",
    "\n",
    "    \n",
    "    outf.close()\n"
   ]
  },
  {
   "cell_type": "code",
   "execution_count": null,
   "metadata": {
    "collapsed": true
   },
   "outputs": [],
   "source": [
    "# ner_set = set([\"DATE\",\n",
    "#             \"IDEOLOGY\",\n",
    "#             \"CITY\",\n",
    "#             \"MISC\",\n",
    "#             \"STATE_OR_PROVINCE\",\n",
    "#             \"DEMONYM\",\n",
    "#             \"TIME\",\n",
    "#             \"ORGANIZATION\",\n",
    "#             \"TITLE\",\n",
    "#             \"MONEY\",\n",
    "#             \"CRIMINAL_CHARGE\",\n",
    "#             \"COUNTRY\",\n",
    "#             \"PERSON\",\n",
    "#             \"CAUSE_OF_DEATH\",\n",
    "#             \"FACILITY\",\n",
    "#             \"PERCENT\",\n",
    "#             \"ORDINAL\",\n",
    "#             \"NUMBER\",\n",
    "#             \"LOCATION\",\n",
    "#             \"RELIGION\",\n",
    "#             \"NATIONALITY\",\n",
    "#             \"GPE\"])\n",
    "\n",
    "\n",
    "# test_content_words = []\n",
    "# test_content_ner2words = []\n",
    "# with open(\"../data/test_content_words\", \"r\", encoding=\"utf-8\") as wf:\n",
    "#     with open(\"../data/test_content_ners\", \"r\", encoding=\"utf-8\") as nf:\n",
    "        \n",
    "#         for wl, nl in zip(wf.readlines(), nf.readlines()):\n",
    "            \n",
    "#             _, words = wl.strip().split(\"\\t\")\n",
    "#             _, ners = nl.strip().split(\"\\t\")\n",
    "#             ner2words = {}\n",
    "#             for word, ner in zip(words.split(\"\\3\"), ners.split(\"\\3\")):\n",
    "#                 ner = \"<\"+ner+\">\"\n",
    "#                 if ner == '<O>': continue\n",
    "#                 if ner not in ner2words:\n",
    "#                     ner2words[ner] = []\n",
    "#                 ner2words[ner].append(word)\n",
    "            \n",
    "#             test_content_ner2words.append(ner2words)\n",
    "#             test_content_words.append(\" \".join(words.split(\"\\3\")))\n",
    "            \n"
   ]
  },
  {
   "cell_type": "code",
   "execution_count": null,
   "metadata": {
    "collapsed": true
   },
   "outputs": [],
   "source": [
    "# ner_set = set([\"DATE\",\n",
    "#             \"IDEOLOGY\",\n",
    "#             \"CITY\",\n",
    "#             \"MISC\",\n",
    "#             \"STATE_OR_PROVINCE\",\n",
    "#             \"DEMONYM\",\n",
    "#             \"TIME\",\n",
    "#             \"ORGANIZATION\",\n",
    "#             \"TITLE\",\n",
    "#             \"MONEY\",\n",
    "#             \"CRIMINAL_CHARGE\",\n",
    "#             \"COUNTRY\",\n",
    "#             \"PERSON\",\n",
    "#             \"CAUSE_OF_DEATH\",\n",
    "#             \"FACILITY\",\n",
    "#             \"PERCENT\",\n",
    "#             \"ORDINAL\",\n",
    "#             \"NUMBER\",\n",
    "#             \"LOCATION\",\n",
    "#             \"RELIGION\",\n",
    "#             \"NATIONALITY\",\n",
    "#             \"GPE\"])\n",
    "\n",
    "\n",
    "# test_content_words = []\n",
    "# test_content_ner2words = []\n",
    "# test_content_word_ner = []\n",
    "# with open(\"../data/test_content_words\", \"r\", encoding=\"utf-8\") as wf:\n",
    "#     with open(\"../data/test_content_ners\", \"r\", encoding=\"utf-8\") as nf:\n",
    "    \n",
    "#         for wl, nl in zip(wf.readlines(), nf.readlines()):\n",
    "            \n",
    "#             _, words = wl.strip().split(\"\\t\")\n",
    "#             _, ners = nl.strip().split(\"\\t\")\n",
    "#             ner2words = {}\n",
    "#             tmp = []\n",
    "#             for word, ner in zip(words.split(\"\\3\"), ners.split(\"\\3\")):\n",
    "#                 ner = \"<\"+ner+\">\"\n",
    "#                 if ner == '<O>': continue\n",
    "#                 if ner not in ner2words:\n",
    "#                     ner2words[ner] = []\n",
    "#                 ner2words[ner].append(word)\n",
    "#                 tmp.append([word,ner])\n",
    "#             test_content_word_ner.append(tmp)\n",
    "#             test_content_ner2words.append(ner2words)\n",
    "#             test_content_words.append(\" \".join(words.split(\"\\3\")))\n",
    "            \n",
    "\n",
    "            \n",
    "# def find_adapt_word(token, pre_word, next_word, ori_text):\n",
    "    \n",
    "#     print(token, pre_word, next_word, ori_text)\n",
    "    \n",
    "#     for idx, (word, ner) in enumerate(ori_text):\n",
    "#         if word == pre_word and ori_text[idx+1][1]==token:\n",
    "#             return ori_text[idx+1][0]\n",
    "#         if word == next_word and ori_text[idx-1][1]==token:\n",
    "#             return ori_text[idx-1][0]\n",
    "        \n",
    "#     return None\n",
    "            \n",
    "# def predict_online(X_test, Y_test, sess, test_content_words):\n",
    "    \n",
    "#     N = len(X_test)\n",
    "#     beam_size = 10\n",
    "#     outf = open(\"../data/produce.beam.test1\", \"w\", encoding=\"utf-8\")\n",
    "#     for idx in range(N):\n",
    "#         x, y = X_test[idx], Y_test[idx]\n",
    "#         candiate = beam_search_with_pruning(x, y, sess, beam_size)\n",
    "#         can = find_proper(candiate, test_content_words[idx], 5)\n",
    "#         print(can)\n",
    "#         filled = []\n",
    "#         words = can.split(\" \")[1:]\n",
    "#         for udx, word in enumerate(words):\n",
    "#             if word in test_content_ner2words[idx]:\n",
    "# #                 ada_word = find_adapt_word(word, words[udx-1], words[udx+1], test_content_word_ner[idx])\n",
    "#                 ada_word = None\n",
    "#                 if ada_word:\n",
    "#                     filled.append(ada_word)\n",
    "#                 else:\n",
    "#                     filled.append(test_content_ner2words[idx][word][0])\n",
    "#             else:\n",
    "#                 filled.append(word)\n",
    "#         outf.write(\"{0}\\t{1}\\t{2}\\n\".format(\"\".join(filled),ids2sent(y), \"\".join(test_content_words[idx].split(\" \"))))\n",
    "#         outf.flush()\n",
    "#     outf.close()"
   ]
  },
  {
   "cell_type": "code",
   "execution_count": null,
   "metadata": {
    "collapsed": true
   },
   "outputs": [],
   "source": [
    "\n",
    "def remove_same_word(text):\n",
    "    tmp = set()\n",
    "    new_text = []\n",
    "    for t in text:\n",
    "        if t in tmp: continue\n",
    "        new_text.append(t)\n",
    "        tmp.add(t)\n",
    "        \n",
    "    return new_text\n",
    "\n",
    "\n",
    "def find_proper(t, ground_truth, top):\n",
    "\n",
    "#     minn = -1e9\n",
    "#     text = None\n",
    "#     for a in t:\n",
    "#         s1 = \" \".join(remove_same_word([b.lower() for b in a[0].split(\" \") if b not in set(\"。，；““！？了\")]))\n",
    "#         s2 = \" \".join([w.lower() for w in ground_truth.split(\" \") if w not in set(\"。，；““！？了\")])\n",
    "#     #     print(s1)\n",
    "#     #     print(s2)\n",
    "#         score = rouge(s1,s2)[\"rouge_2/r_score\"]*0.8+rouge(s1,s2)[\"rouge_1/r_score\"]*0.2\n",
    "#         print(a)\n",
    "#         print(score)\n",
    "#         print(rouge(s1,s2)[\"rouge_2/r_score\"])\n",
    "#         if score > minn:\n",
    "#             minn = score\n",
    "#             text = a[0]\n",
    "            \n",
    "    tmp = ([(rouge(\" \".join(remove_same_word([b.lower() for b in a[0].split(\" \") if b not in set(\"。，；““！？了\")])),\n",
    "              \" \".join(remove_same_word([w.lower() for w in ground_truth.split(\" \") if w not in set(\"。，；““！？了\")]))),a[0])\n",
    "             for a in t])\n",
    "    def score(x):\n",
    "        return x[\"rouge_2/r_score\"]*0.8+x[\"rouge_l/r_score\"]*0.2\n",
    "    tmp = sorted(tmp, key=lambda x:score(x[0]), reverse=True)[:top]\n",
    "    s =  min(tmp, key=lambda x:len(x[1].split(\" \")))[1]\n",
    "\n",
    "    return \" \".join(remove_same_word(s.split(\" \")))\n",
    "\n"
   ]
  },
  {
   "cell_type": "code",
   "execution_count": null,
   "metadata": {},
   "outputs": [],
   "source": [
    "predict_online(X_test, Y_test, sess, test_content_words)"
   ]
  },
  {
   "cell_type": "code",
   "execution_count": null,
   "metadata": {},
   "outputs": [],
   "source": [
    "find_proper(t, test_content_words[3], 5)"
   ]
  },
  {
   "cell_type": "code",
   "execution_count": null,
   "metadata": {},
   "outputs": [],
   "source": [
    "\" \".join([w for w in test_content_words[0].split(\" \") if w not in stopwords])"
   ]
  },
  {
   "cell_type": "code",
   "execution_count": null,
   "metadata": {
    "collapsed": true
   },
   "outputs": [],
   "source": [
    "t"
   ]
  },
  {
   "cell_type": "code",
   "execution_count": null,
   "metadata": {
    "collapsed": true
   },
   "outputs": [],
   "source": [
    "real = []\n",
    "for word in can.split(\" \")[1:]:\n",
    "    if word in test_content_ner2words[1]:\n",
    "        real.append(test_content_ner2words[1][word][0])\n",
    "    else:\n",
    "        real.append(word)\n",
    "print(real)"
   ]
  },
  {
   "cell_type": "code",
   "execution_count": null,
   "metadata": {
    "collapsed": true
   },
   "outputs": [],
   "source": [
    "test_content_ner2words[3]"
   ]
  },
  {
   "cell_type": "code",
   "execution_count": null,
   "metadata": {
    "collapsed": true
   },
   "outputs": [],
   "source": [
    "for a in t:\n",
    "    r = rouge([a[0]], [test_content_words[3]])\n",
    "    print(a[0])\n",
    "    print(test_content_words[3])\n",
    "    print(r)"
   ]
  },
  {
   "cell_type": "code",
   "execution_count": null,
   "metadata": {
    "collapsed": true
   },
   "outputs": [],
   "source": [
    "import scipy\n",
    "1 - scipy.spatial.distance.cosine(embed[word2idx[\"你\"]],embed[word2idx[\"我\"]])"
   ]
  },
  {
   "cell_type": "code",
   "execution_count": null,
   "metadata": {
    "collapsed": true
   },
   "outputs": [],
   "source": [
    "# 测试词向量\n",
    "\n",
    "def neighbor(target_word, k):\n",
    "    \n",
    "    w2sim = {}\n",
    "    for word in word2idx.keys():\n",
    "        sim = 1 - scipy.spatial.distance.cosine(embed[word2idx[target_word]],embed[word2idx[word]]) \n",
    "        w2sim[word] = sim\n",
    "    \n",
    "    return sorted(w2sim.items(), key=lambda x:x[1], reverse=True)[:k]"
   ]
  },
  {
   "cell_type": "code",
   "execution_count": null,
   "metadata": {
    "collapsed": true
   },
   "outputs": [],
   "source": [
    "ns = neighbor(\"外汇\", 20)\n",
    "for n in ns:\n",
    "    print(n)"
   ]
  },
  {
   "cell_type": "code",
   "execution_count": null,
   "metadata": {
    "collapsed": true
   },
   "outputs": [],
   "source": []
  },
  {
   "cell_type": "code",
   "execution_count": null,
   "metadata": {
    "collapsed": true
   },
   "outputs": [],
   "source": []
  }
 ],
 "metadata": {
  "kernelspec": {
   "display_name": "Python [conda env:reinforce_learning]",
   "language": "python",
   "name": "conda-env-reinforce_learning-py"
  },
  "language_info": {
   "codemirror_mode": {
    "name": "ipython",
    "version": 3
   },
   "file_extension": ".py",
   "mimetype": "text/x-python",
   "name": "python",
   "nbconvert_exporter": "python",
   "pygments_lexer": "ipython3",
   "version": "3.6.2"
  }
 },
 "nbformat": 4,
 "nbformat_minor": 2
}
