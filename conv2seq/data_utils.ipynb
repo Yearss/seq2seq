{
 "cells": [
  {
   "cell_type": "code",
   "execution_count": 1,
   "metadata": {
    "collapsed": true
   },
   "outputs": [],
   "source": [
    "import pickle\n",
    "from sklearn.model_selection import train_test_split\n",
    "import random"
   ]
  },
  {
   "cell_type": "code",
   "execution_count": 2,
   "metadata": {
    "collapsed": true
   },
   "outputs": [],
   "source": [
    "class Word:\n",
    "    def __init__(self, val, tf, df):\n",
    "        self.val = val\n",
    "        self.tf = tf\n",
    "        self.df = df"
   ]
  },
  {
   "cell_type": "code",
   "execution_count": 3,
   "metadata": {
    "collapsed": true
   },
   "outputs": [],
   "source": [
    "def read_data(data_fname):\n",
    "    corpus = []\n",
    "    with open(data_fname, 'r', encoding=\"utf-8\") as f:\n",
    "        for idx, line in enumerate(f):\n",
    "            if idx % 50000 == 0: print(\"progress:{0}\".format(idx))\n",
    "            try:\n",
    "                title, abstract = line.strip().split(\"\\t\")\n",
    "            except:\n",
    "                continue\n",
    "            corpus.append((title.split(\" \"), abstract.split(\" \")))\n",
    "    return corpus"
   ]
  },
  {
   "cell_type": "code",
   "execution_count": 4,
   "metadata": {
    "collapsed": true
   },
   "outputs": [],
   "source": [
    "def cal_word_tf_df(corpus):\n",
    "    word_set = {}\n",
    "    content_vocab = set()\n",
    "    for doc in corpus:\n",
    "        title, abstract = doc[0], doc[1]\n",
    "        words = title + abstract\n",
    "        for w in words:\n",
    "            if w not in word_set:\n",
    "                word_set[w] = Word(val=w, tf=1, df=0)\n",
    "            else:\n",
    "                word_set[w].tf += 1\n",
    "        for w in set(words):\n",
    "            word_set[w].df += 1\n",
    "        for w in title:\n",
    "            content_vocab.add(w)\n",
    "    return word_set, content_vocab"
   ]
  },
  {
   "cell_type": "code",
   "execution_count": 5,
   "metadata": {
    "collapsed": true
   },
   "outputs": [],
   "source": [
    "id_beg = 0\n",
    "id_eos = 1\n",
    "id_emp = 2\n",
    "id_unk = 3\n",
    "def build_idx_for_word_tf_df(word_set, content_vocab, tf_thres=12, df_thres=6, vocab_size=100000):\n",
    "    \n",
    "    start_idx = id_unk + 1\n",
    "    word2idx = {}\n",
    "    idx2word = {}\n",
    "    \n",
    "    word2idx[\"<eos>\"] = id_eos\n",
    "    word2idx[\"<unk>\"] = id_unk\n",
    "    word2idx[\"<emp>\"] = id_emp\n",
    "    word2idx[\"<beg>\"] = id_beg\n",
    "    \n",
    "    word_list = list(filter(lambda w: w.tf > tf_thres and w.df > df_thres, word_set.values()))\n",
    "    \n",
    "    word2idx.update({w.val: start_idx + idx for idx, w in enumerate(word_list[:vocab_size])})\n",
    "    \n",
    "    for w in content_vocab:\n",
    "        if w not in word2idx: word2idx[w] = len(word2idx)\n",
    "            \n",
    "    idx2word = {idx: word for word, idx in word2idx.items()}\n",
    "    \n",
    "    return word2idx, idx2word"
   ]
  },
  {
   "cell_type": "code",
   "execution_count": null,
   "metadata": {},
   "outputs": [
    {
     "name": "stdout",
     "output_type": "stream",
     "text": [
      "progress:0\n",
      "progress:50000\n",
      "progress:100000\n",
      "progress:150000\n",
      "progress:200000\n",
      "progress:250000\n",
      "progress:300000\n",
      "progress:350000\n",
      "progress:400000\n",
      "progress:450000\n",
      "progress:500000\n",
      "progress:550000\n",
      "progress:600000\n",
      "progress:700000\n",
      "progress:750000\n",
      "progress:800000\n",
      "progress:850000\n",
      "progress:900000\n",
      "progress:950000\n",
      "progress:1000000\n",
      "progress:1050000\n",
      "progress:1100000\n",
      "progress:1150000\n",
      "progress:1200000\n",
      "progress:1250000\n",
      "progress:1300000\n",
      "progress:1350000\n",
      "progress:1400000\n",
      "progress:1450000\n",
      "progress:1500000\n",
      "Got 1513342 doc in corpus\n"
     ]
    }
   ],
   "source": [
    "data_fname = \"../data/processed.s2s.v1.txt\"\n",
    "corpus = read_data(data_fname)\n",
    "print(\"Got {0} doc in corpus\".format(len(corpus)))\n"
   ]
  },
  {
   "cell_type": "code",
   "execution_count": null,
   "metadata": {
    "collapsed": true
   },
   "outputs": [],
   "source": [
    "word_set, content_vab = cal_word_tf_df(corpus)\n",
    "print(\"Got {0} unique word\".format(len(word_set)))"
   ]
  },
  {
   "cell_type": "code",
   "execution_count": null,
   "metadata": {
    "collapsed": true
   },
   "outputs": [],
   "source": [
    "print(\"ham\")"
   ]
  },
  {
   "cell_type": "code",
   "execution_count": null,
   "metadata": {
    "collapsed": true
   },
   "outputs": [],
   "source": [
    "top_tf_words = sorted(word_set.values(), key=lambda x: x.tf, reverse=True)\n",
    "print(\"The Top 10 are: \")\n",
    "print(\"\\n\".join([\"{0}\\t{1}\\t{2}\".format(word.val, word.tf, word.df) for word in top_tf_words[:10]]))"
   ]
  },
  {
   "cell_type": "code",
   "execution_count": null,
   "metadata": {
    "collapsed": true
   },
   "outputs": [],
   "source": [
    "word2idx, idx2word = build_idx_for_word_tf_df(word_set, content_vab, vocab_size=100000)\n",
    "titles = [[word2idx.get(w, id_unk) for w in doc[0]] for doc in corpus]\n",
    "abstracts = [[word2idx.get(w, id_unk) for w in doc[1]] for doc in corpus]\n",
    "\n",
    "X_train, X_test, Y_train, Y_test = train_test_split(abstracts, titles, test_size=1000)\n",
    "print(\"X_train length: {0}\\nX_test length: {1}\\nY_train length: {2}\\nY_test length: {3}\".format(len(X_train),\n",
    "                                                                                                len(X_test),\n",
    "                                                                                                len(Y_train),\n",
    "                                                                                                len(Y_test)\n",
    "                                                                                                   ))"
   ]
  },
  {
   "cell_type": "code",
   "execution_count": 2,
   "metadata": {},
   "outputs": [
    {
     "ename": "NameError",
     "evalue": "name 'corpus' is not defined",
     "output_type": "error",
     "traceback": [
      "\u001b[0;31m---------------------------------------------------------------------------\u001b[0m",
      "\u001b[0;31mNameError\u001b[0m                                 Traceback (most recent call last)",
      "\u001b[0;32m<ipython-input-2-1f3b59a9d9e6>\u001b[0m in \u001b[0;36m<module>\u001b[0;34m()\u001b[0m\n\u001b[0;32m----> 1\u001b[0;31m \u001b[0mlen\u001b[0m\u001b[0;34m(\u001b[0m\u001b[0mcorpus\u001b[0m\u001b[0;34m)\u001b[0m\u001b[0;34m\u001b[0m\u001b[0m\n\u001b[0m",
      "\u001b[0;31mNameError\u001b[0m: name 'corpus' is not defined"
     ]
    }
   ],
   "source": []
  },
  {
   "cell_type": "code",
   "execution_count": null,
   "metadata": {
    "collapsed": true
   },
   "outputs": [],
   "source": [
    "def prt(label, x):\n",
    "    print(label + \":\")\n",
    "    for w in x:\n",
    "        if w == id_emp:\n",
    "            continue\n",
    "        print(idx2word[w], end=\"\")\n",
    "    print()"
   ]
  },
  {
   "cell_type": "code",
   "execution_count": null,
   "metadata": {
    "collapsed": true
   },
   "outputs": [],
   "source": [
    "data_fn = \"../data/finance150.pkl\"\n",
    "with open(data_fn, 'wb') as f:\n",
    "    pickle.dump((word2idx, idx2word, X_train, X_test, Y_train, Y_test), f, -1)\n",
    "print(\"vocab size: {0}\".format(len(word2idx)))\n",
    "idx = random.randint(0, len(X_train))\n",
    "prt(\"abstract\", X_train[idx])\n",
    "prt(\"title\", Y_train[idx])"
   ]
  },
  {
   "cell_type": "code",
   "execution_count": null,
   "metadata": {
    "collapsed": true
   },
   "outputs": [],
   "source": [
    "# # transform new data\n",
    "\n",
    "# data_fn = \"../data/basic_data_tf.pkl\"\n",
    "# with open(data_fn, 'rb') as f:\n",
    "#     word2idx, idx2word, _, _, _, _ = pickle.load(f)\n",
    "    \n",
    "# new_data_fn = \"../data/finance.kb.0823.data\"\n",
    "# new_corpus = read_data(new_data_fn)\n",
    "\n",
    "# titles = [[word2idx.get(w, id_unk) for w in doc[0]] for doc in new_corpus]\n",
    "# abstracts = [[word2idx.get(w, id_unk) for w in doc[1]] for doc in new_corpus]\n",
    "\n",
    "# data_fn = \"../data/finance.kb.0823.pkl\"\n",
    "# with open(data_fn, 'wb') as f:\n",
    "#     pickle.dump((abstracts, titles), f, -1)\n"
   ]
  },
  {
   "cell_type": "code",
   "execution_count": null,
   "metadata": {
    "collapsed": true
   },
   "outputs": [],
   "source": []
  }
 ],
 "metadata": {
  "kernelspec": {
   "display_name": "Python [default]",
   "language": "python",
   "name": "python3"
  },
  "language_info": {
   "codemirror_mode": {
    "name": "ipython",
    "version": 3
   },
   "file_extension": ".py",
   "mimetype": "text/x-python",
   "name": "python",
   "nbconvert_exporter": "python",
   "pygments_lexer": "ipython3",
   "version": "3.6.4"
  }
 },
 "nbformat": 4,
 "nbformat_minor": 2
}
